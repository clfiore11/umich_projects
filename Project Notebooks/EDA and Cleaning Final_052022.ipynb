{
 "cells": [
  {
   "cell_type": "markdown",
   "id": "d0aa6aff-73c7-41cd-b225-81df02ba81a4",
   "metadata": {},
   "source": [
    "# Step 0: Setup Environment"
   ]
  },
  {
   "cell_type": "markdown",
   "id": "cc91ed09-c338-4430-ada1-be5bb287e7b2",
   "metadata": {},
   "source": [
    "### Install New Libraries"
   ]
  },
  {
   "cell_type": "code",
   "execution_count": 1,
   "id": "f36b859e-59aa-4c24-bd1f-f8ab9b9c64fb",
   "metadata": {},
   "outputs": [
    {
     "name": "stdout",
     "output_type": "stream",
     "text": [
      "Requirement already satisfied: missingno in /opt/anaconda3/lib/python3.9/site-packages (0.5.1)\n",
      "Requirement already satisfied: numpy in /opt/anaconda3/lib/python3.9/site-packages (from missingno) (1.21.5)\n",
      "Requirement already satisfied: seaborn in /opt/anaconda3/lib/python3.9/site-packages (from missingno) (0.11.2)\n",
      "Requirement already satisfied: matplotlib in /opt/anaconda3/lib/python3.9/site-packages (from missingno) (3.5.1)\n",
      "Requirement already satisfied: scipy in /opt/anaconda3/lib/python3.9/site-packages (from missingno) (1.7.3)\n",
      "Requirement already satisfied: kiwisolver>=1.0.1 in /opt/anaconda3/lib/python3.9/site-packages (from matplotlib->missingno) (1.3.2)\n",
      "Requirement already satisfied: python-dateutil>=2.7 in /opt/anaconda3/lib/python3.9/site-packages (from matplotlib->missingno) (2.8.2)\n",
      "Requirement already satisfied: packaging>=20.0 in /opt/anaconda3/lib/python3.9/site-packages (from matplotlib->missingno) (21.3)\n",
      "Requirement already satisfied: pyparsing>=2.2.1 in /opt/anaconda3/lib/python3.9/site-packages (from matplotlib->missingno) (3.0.4)\n",
      "Requirement already satisfied: pillow>=6.2.0 in /opt/anaconda3/lib/python3.9/site-packages (from matplotlib->missingno) (9.0.1)\n",
      "Requirement already satisfied: fonttools>=4.22.0 in /opt/anaconda3/lib/python3.9/site-packages (from matplotlib->missingno) (4.25.0)\n",
      "Requirement already satisfied: cycler>=0.10 in /opt/anaconda3/lib/python3.9/site-packages (from matplotlib->missingno) (0.11.0)\n",
      "Requirement already satisfied: six>=1.5 in /opt/anaconda3/lib/python3.9/site-packages (from python-dateutil>=2.7->matplotlib->missingno) (1.16.0)\n",
      "Requirement already satisfied: pandas>=0.23 in /opt/anaconda3/lib/python3.9/site-packages (from seaborn->missingno) (1.4.2)\n",
      "Requirement already satisfied: pytz>=2020.1 in /opt/anaconda3/lib/python3.9/site-packages (from pandas>=0.23->seaborn->missingno) (2021.3)\n"
     ]
    }
   ],
   "source": [
    "!pip install missingno"
   ]
  },
  {
   "cell_type": "code",
   "execution_count": 2,
   "id": "256ab336-9131-413a-b914-6ab31bae2b9d",
   "metadata": {},
   "outputs": [],
   "source": [
    "# imports libraries\n",
    "import pandas as pd \n",
    "import numpy as np \n",
    "import datetime as datetime \n",
    "import missingno as msno\n",
    "import random\n",
    "%matplotlib inline"
   ]
  },
  {
   "cell_type": "code",
   "execution_count": 3,
   "id": "fb50f364-6906-462e-a3fa-bcc2e4745141",
   "metadata": {},
   "outputs": [],
   "source": [
    "# notebook configurations\n",
    "pd.set_option('display.max_columns', None)"
   ]
  },
  {
   "cell_type": "markdown",
   "id": "be83b8b5-c750-4ea4-bb45-943b25ec57be",
   "metadata": {},
   "source": [
    "### Definitions List: \n",
    "* Field Contact Name (fcn): This dataset lists each individual involved in these contacts.\n",
    "* Field Contact (fc): This dataset lists each contact between BPD and one or more individuals.\n",
    "* Crime Incident Report (cir): This dataset contains records from the new crime incident report system, which includes a reduced set of fields focused on capturing the type of incident as well as when and where it occurred."
   ]
  },
  {
   "cell_type": "markdown",
   "id": "d60b8e74-ca5f-4953-930c-0fe4360c4b95",
   "metadata": {},
   "source": [
    "### Import Raw Data from CSVs"
   ]
  },
  {
   "cell_type": "code",
   "execution_count": 4,
   "id": "c2c35023-f96c-4dd9-af00-dfb71158cc83",
   "metadata": {
    "tags": []
   },
   "outputs": [],
   "source": [
    "# importing 2019 and 2020 datasets\n",
    "\n",
    "# field contact name\n",
    "fcn_19_1 = pd.read_csv('data/rms_fieldcontacts_name_for_public_2019.csv')\n",
    "fcn_19_2 = pd.read_csv('data/mark43_fieldcontacts_name_for_public_2019.csv')\n",
    "fcn_20 = pd.read_csv('data/mark43_fieldcontacts_name_for_public_2020.csv')\n",
    "\n",
    "# field contact \n",
    "fc_19_1 = pd.read_csv('data/rms_fieldcontacts_for_public_2019.csv')\n",
    "fc_19_2 = pd.read_csv('data/mark43_fieldcontacts_for_public_2019.csv')\n",
    "fc_20 = pd.read_csv('data/mark43_fieldcontacts_for_public_2020.csv')\n",
    "\n",
    "# crime incident report\n",
    "cir_19 = pd.read_csv('data/crime_incident_report_2019.csv',low_memory=False)\n",
    "cir_20 = pd.read_csv('data/crime_incident_report_2020.csv',low_memory=False)"
   ]
  },
  {
   "cell_type": "code",
   "execution_count": 5,
   "id": "9e43869d-9f00-4d3c-b1b7-c86d97e44f23",
   "metadata": {},
   "outputs": [],
   "source": [
    "# unioning both field contanct name and field contact reports\n",
    "fcn_19 = pd.concat([fcn_19_1, fcn_19_2])\n",
    "fc_19 = pd.concat([fc_19_1, fc_19_2])"
   ]
  },
  {
   "cell_type": "code",
   "execution_count": 6,
   "id": "60fe9a91-daab-4097-8260-9fe17ed2ff93",
   "metadata": {},
   "outputs": [],
   "source": [
    "# union fcn, fc, and cir 2019 and 2020 data\n",
    "fcn = pd.concat([fcn_20, fcn_19])\n",
    "fc = pd.concat([fc_20, fc_19])\n",
    "cir = pd.concat([cir_20, cir_19])\n",
    "\n",
    "# merge fc and fcn to create one df\n",
    "combined_fc_df = fc.merge(fcn,on='fc_num', how='left')"
   ]
  },
  {
   "cell_type": "markdown",
   "id": "b0e1424b-97db-43bd-8cde-08d19f5dff30",
   "metadata": {},
   "source": [
    "# Step 1: Early EDA and Column Selection"
   ]
  },
  {
   "cell_type": "code",
   "execution_count": 7,
   "id": "738cf4f8-0b05-40f4-adb4-3334f1ef7b1a",
   "metadata": {},
   "outputs": [
    {
     "data": {
      "text/plain": [
       "(24668, 16)"
      ]
     },
     "metadata": {},
     "output_type": "display_data"
    },
    {
     "data": {
      "text/plain": [
       "(14054, 28)"
      ]
     },
     "metadata": {},
     "output_type": "display_data"
    },
    {
     "data": {
      "text/plain": [
       "(158078, 17)"
      ]
     },
     "metadata": {},
     "output_type": "display_data"
    }
   ],
   "source": [
    "# looking at shape of the data to understand the number of columns and rows\n",
    "display(fcn.shape,fc.shape,cir.shape)"
   ]
  },
  {
   "cell_type": "code",
   "execution_count": 8,
   "id": "96b0b0fd-a2f2-40b2-ae1d-8e35b770057b",
   "metadata": {},
   "outputs": [
    {
     "data": {
      "text/html": [
       "<div>\n",
       "<style scoped>\n",
       "    .dataframe tbody tr th:only-of-type {\n",
       "        vertical-align: middle;\n",
       "    }\n",
       "\n",
       "    .dataframe tbody tr th {\n",
       "        vertical-align: top;\n",
       "    }\n",
       "\n",
       "    .dataframe thead th {\n",
       "        text-align: right;\n",
       "    }\n",
       "</style>\n",
       "<table border=\"1\" class=\"dataframe\">\n",
       "  <thead>\n",
       "    <tr style=\"text-align: right;\">\n",
       "      <th></th>\n",
       "      <th>fc_num</th>\n",
       "      <th>contact_date</th>\n",
       "      <th>sex</th>\n",
       "      <th>race</th>\n",
       "      <th>age</th>\n",
       "      <th>build</th>\n",
       "      <th>hair_style</th>\n",
       "      <th>skin_tone</th>\n",
       "      <th>ethnicity</th>\n",
       "      <th>otherclothing</th>\n",
       "      <th>deceased</th>\n",
       "      <th>license_state</th>\n",
       "      <th>license_type</th>\n",
       "      <th>frisk/search</th>\n",
       "      <th>recnum</th>\n",
       "      <th>complexion</th>\n",
       "    </tr>\n",
       "  </thead>\n",
       "  <tbody>\n",
       "    <tr>\n",
       "      <th>0</th>\n",
       "      <td>FC20000004</td>\n",
       "      <td>2020-01-01 00:00:00</td>\n",
       "      <td>Male</td>\n",
       "      <td>NaN</td>\n",
       "      <td>38.0</td>\n",
       "      <td>NaN</td>\n",
       "      <td>NaN</td>\n",
       "      <td>NaN</td>\n",
       "      <td>Hispanic Origin</td>\n",
       "      <td>NaN</td>\n",
       "      <td>0.0</td>\n",
       "      <td>NaN</td>\n",
       "      <td>NaN</td>\n",
       "      <td>1.0</td>\n",
       "      <td>NaN</td>\n",
       "      <td>NaN</td>\n",
       "    </tr>\n",
       "    <tr>\n",
       "      <th>1</th>\n",
       "      <td>FC20000075</td>\n",
       "      <td>2020-01-01 00:00:00</td>\n",
       "      <td>Female</td>\n",
       "      <td>White</td>\n",
       "      <td>29.0</td>\n",
       "      <td>NaN</td>\n",
       "      <td>NaN</td>\n",
       "      <td>Light</td>\n",
       "      <td>NaN</td>\n",
       "      <td>NaN</td>\n",
       "      <td>0.0</td>\n",
       "      <td>MA</td>\n",
       "      <td>NaN</td>\n",
       "      <td>0.0</td>\n",
       "      <td>NaN</td>\n",
       "      <td>NaN</td>\n",
       "    </tr>\n",
       "    <tr>\n",
       "      <th>2</th>\n",
       "      <td>FC20000001</td>\n",
       "      <td>2020-01-01 01:30:00</td>\n",
       "      <td>Male</td>\n",
       "      <td>White</td>\n",
       "      <td>28.0</td>\n",
       "      <td>NaN</td>\n",
       "      <td>NaN</td>\n",
       "      <td>NaN</td>\n",
       "      <td>Unknown</td>\n",
       "      <td>NaN</td>\n",
       "      <td>0.0</td>\n",
       "      <td>NaN</td>\n",
       "      <td>NaN</td>\n",
       "      <td>0.0</td>\n",
       "      <td>NaN</td>\n",
       "      <td>NaN</td>\n",
       "    </tr>\n",
       "  </tbody>\n",
       "</table>\n",
       "</div>"
      ],
      "text/plain": [
       "       fc_num         contact_date     sex   race   age build hair_style  \\\n",
       "0  FC20000004  2020-01-01 00:00:00    Male    NaN  38.0   NaN        NaN   \n",
       "1  FC20000075  2020-01-01 00:00:00  Female  White  29.0   NaN        NaN   \n",
       "2  FC20000001  2020-01-01 01:30:00    Male  White  28.0   NaN        NaN   \n",
       "\n",
       "  skin_tone        ethnicity otherclothing  deceased license_state  \\\n",
       "0       NaN  Hispanic Origin           NaN       0.0           NaN   \n",
       "1     Light              NaN           NaN       0.0            MA   \n",
       "2       NaN          Unknown           NaN       0.0           NaN   \n",
       "\n",
       "  license_type  frisk/search  recnum complexion  \n",
       "0          NaN           1.0     NaN        NaN  \n",
       "1          NaN           0.0     NaN        NaN  \n",
       "2          NaN           0.0     NaN        NaN  "
      ]
     },
     "metadata": {},
     "output_type": "display_data"
    },
    {
     "data": {
      "text/html": [
       "<div>\n",
       "<style scoped>\n",
       "    .dataframe tbody tr th:only-of-type {\n",
       "        vertical-align: middle;\n",
       "    }\n",
       "\n",
       "    .dataframe tbody tr th {\n",
       "        vertical-align: top;\n",
       "    }\n",
       "\n",
       "    .dataframe thead th {\n",
       "        text-align: right;\n",
       "    }\n",
       "</style>\n",
       "<table border=\"1\" class=\"dataframe\">\n",
       "  <thead>\n",
       "    <tr style=\"text-align: right;\">\n",
       "      <th></th>\n",
       "      <th>fc_num</th>\n",
       "      <th>contact_date</th>\n",
       "      <th>contact_officer</th>\n",
       "      <th>contact_officer_name</th>\n",
       "      <th>supervisor</th>\n",
       "      <th>supervisor_name</th>\n",
       "      <th>street</th>\n",
       "      <th>city</th>\n",
       "      <th>state</th>\n",
       "      <th>zip</th>\n",
       "      <th>stop_duration</th>\n",
       "      <th>circumstance</th>\n",
       "      <th>basis</th>\n",
       "      <th>vehicle_year</th>\n",
       "      <th>vehicle_state</th>\n",
       "      <th>vehicle_model</th>\n",
       "      <th>vehicle_color</th>\n",
       "      <th>vehicle_style</th>\n",
       "      <th>vehicle_type</th>\n",
       "      <th>key_situations</th>\n",
       "      <th>contact_reason</th>\n",
       "      <th>weather</th>\n",
       "      <th>frisked</th>\n",
       "      <th>searchperson</th>\n",
       "      <th>searchvehicle</th>\n",
       "      <th>summonsissued</th>\n",
       "      <th>vehicle_make</th>\n",
       "      <th>narrative</th>\n",
       "    </tr>\n",
       "  </thead>\n",
       "  <tbody>\n",
       "    <tr>\n",
       "      <th>0</th>\n",
       "      <td>FC20000004</td>\n",
       "      <td>2020-01-01 00:00:00</td>\n",
       "      <td>103525</td>\n",
       "      <td>NUNEZ, EVAN</td>\n",
       "      <td>80411.0</td>\n",
       "      <td>MANUEL BLAS</td>\n",
       "      <td>NaN</td>\n",
       "      <td>BOSTON</td>\n",
       "      <td>MA</td>\n",
       "      <td>2128</td>\n",
       "      <td>1164.0</td>\n",
       "      <td>Stopped</td>\n",
       "      <td>Reasonable Suspicion</td>\n",
       "      <td>2012.0</td>\n",
       "      <td>NaN</td>\n",
       "      <td>Rogue</td>\n",
       "      <td>Gray</td>\n",
       "      <td>Other</td>\n",
       "      <td>Suv (sport Utility Vehicle)</td>\n",
       "      <td>NaN</td>\n",
       "      <td>On Wednesday January 1, 2020 members of the A7...</td>\n",
       "      <td>Clear (Night)</td>\n",
       "      <td>NaN</td>\n",
       "      <td>NaN</td>\n",
       "      <td>NaN</td>\n",
       "      <td>NaN</td>\n",
       "      <td>NaN</td>\n",
       "      <td>NaN</td>\n",
       "    </tr>\n",
       "    <tr>\n",
       "      <th>1</th>\n",
       "      <td>FC20000075</td>\n",
       "      <td>2020-01-01 00:00:00</td>\n",
       "      <td>140304</td>\n",
       "      <td>MULLANE, GIANNA</td>\n",
       "      <td>10163.0</td>\n",
       "      <td>THOMAS PRATT</td>\n",
       "      <td>MAGAZINE ST</td>\n",
       "      <td>ROXBURY</td>\n",
       "      <td>MA</td>\n",
       "      <td>2119</td>\n",
       "      <td>4826.0</td>\n",
       "      <td>Encountered</td>\n",
       "      <td>Encounter</td>\n",
       "      <td>NaN</td>\n",
       "      <td>NaN</td>\n",
       "      <td>NaN</td>\n",
       "      <td>NaN</td>\n",
       "      <td>NaN</td>\n",
       "      <td>NaN</td>\n",
       "      <td>NaN</td>\n",
       "      <td>Officers observed XXXlaying in the doorway of ...</td>\n",
       "      <td>NaN</td>\n",
       "      <td>NaN</td>\n",
       "      <td>NaN</td>\n",
       "      <td>NaN</td>\n",
       "      <td>NaN</td>\n",
       "      <td>NaN</td>\n",
       "      <td>NaN</td>\n",
       "    </tr>\n",
       "    <tr>\n",
       "      <th>2</th>\n",
       "      <td>FC20000001</td>\n",
       "      <td>2020-01-01 01:30:00</td>\n",
       "      <td>153329</td>\n",
       "      <td>KOVALESKI, STEVEN</td>\n",
       "      <td>10092.0</td>\n",
       "      <td>DANIEL TRACEY</td>\n",
       "      <td>DORCHESTER ST</td>\n",
       "      <td>BOSTON</td>\n",
       "      <td>MA</td>\n",
       "      <td>2127</td>\n",
       "      <td>NaN</td>\n",
       "      <td>Encountered</td>\n",
       "      <td>Reasonable Suspicion</td>\n",
       "      <td>NaN</td>\n",
       "      <td>NaN</td>\n",
       "      <td>NaN</td>\n",
       "      <td>NaN</td>\n",
       "      <td>NaN</td>\n",
       "      <td>NaN</td>\n",
       "      <td>NaN</td>\n",
       "      <td>On 01/01/2020, Officers responded to \"Stats Ba...</td>\n",
       "      <td>NaN</td>\n",
       "      <td>NaN</td>\n",
       "      <td>NaN</td>\n",
       "      <td>NaN</td>\n",
       "      <td>NaN</td>\n",
       "      <td>NaN</td>\n",
       "      <td>NaN</td>\n",
       "    </tr>\n",
       "  </tbody>\n",
       "</table>\n",
       "</div>"
      ],
      "text/plain": [
       "       fc_num         contact_date contact_officer contact_officer_name  \\\n",
       "0  FC20000004  2020-01-01 00:00:00          103525          NUNEZ, EVAN   \n",
       "1  FC20000075  2020-01-01 00:00:00          140304      MULLANE, GIANNA   \n",
       "2  FC20000001  2020-01-01 01:30:00          153329    KOVALESKI, STEVEN   \n",
       "\n",
       "   supervisor supervisor_name         street     city state   zip  \\\n",
       "0     80411.0     MANUEL BLAS            NaN   BOSTON    MA  2128   \n",
       "1     10163.0    THOMAS PRATT    MAGAZINE ST  ROXBURY    MA  2119   \n",
       "2     10092.0   DANIEL TRACEY  DORCHESTER ST   BOSTON    MA  2127   \n",
       "\n",
       "  stop_duration circumstance                  basis  vehicle_year  \\\n",
       "0        1164.0      Stopped  Reasonable Suspicion         2012.0   \n",
       "1        4826.0  Encountered              Encounter           NaN   \n",
       "2           NaN  Encountered  Reasonable Suspicion            NaN   \n",
       "\n",
       "  vehicle_state vehicle_model vehicle_color vehicle_style  \\\n",
       "0           NaN         Rogue          Gray         Other   \n",
       "1           NaN           NaN           NaN           NaN   \n",
       "2           NaN           NaN           NaN           NaN   \n",
       "\n",
       "                  vehicle_type key_situations  \\\n",
       "0  Suv (sport Utility Vehicle)            NaN   \n",
       "1                          NaN            NaN   \n",
       "2                          NaN            NaN   \n",
       "\n",
       "                                      contact_reason        weather frisked  \\\n",
       "0  On Wednesday January 1, 2020 members of the A7...  Clear (Night)     NaN   \n",
       "1  Officers observed XXXlaying in the doorway of ...            NaN     NaN   \n",
       "2  On 01/01/2020, Officers responded to \"Stats Ba...            NaN     NaN   \n",
       "\n",
       "  searchperson searchvehicle summonsissued vehicle_make narrative  \n",
       "0          NaN           NaN           NaN          NaN       NaN  \n",
       "1          NaN           NaN           NaN          NaN       NaN  \n",
       "2          NaN           NaN           NaN          NaN       NaN  "
      ]
     },
     "metadata": {},
     "output_type": "display_data"
    },
    {
     "data": {
      "text/html": [
       "<div>\n",
       "<style scoped>\n",
       "    .dataframe tbody tr th:only-of-type {\n",
       "        vertical-align: middle;\n",
       "    }\n",
       "\n",
       "    .dataframe tbody tr th {\n",
       "        vertical-align: top;\n",
       "    }\n",
       "\n",
       "    .dataframe thead th {\n",
       "        text-align: right;\n",
       "    }\n",
       "</style>\n",
       "<table border=\"1\" class=\"dataframe\">\n",
       "  <thead>\n",
       "    <tr style=\"text-align: right;\">\n",
       "      <th></th>\n",
       "      <th>INCIDENT_NUMBER</th>\n",
       "      <th>OFFENSE_CODE</th>\n",
       "      <th>OFFENSE_CODE_GROUP</th>\n",
       "      <th>OFFENSE_DESCRIPTION</th>\n",
       "      <th>DISTRICT</th>\n",
       "      <th>REPORTING_AREA</th>\n",
       "      <th>SHOOTING</th>\n",
       "      <th>OCCURRED_ON_DATE</th>\n",
       "      <th>YEAR</th>\n",
       "      <th>MONTH</th>\n",
       "      <th>DAY_OF_WEEK</th>\n",
       "      <th>HOUR</th>\n",
       "      <th>UCR_PART</th>\n",
       "      <th>STREET</th>\n",
       "      <th>Lat</th>\n",
       "      <th>Long</th>\n",
       "      <th>Location</th>\n",
       "    </tr>\n",
       "  </thead>\n",
       "  <tbody>\n",
       "    <tr>\n",
       "      <th>0</th>\n",
       "      <td>854652314</td>\n",
       "      <td>3115</td>\n",
       "      <td>NaN</td>\n",
       "      <td>INVESTIGATE PERSON</td>\n",
       "      <td>B2</td>\n",
       "      <td>289</td>\n",
       "      <td>0</td>\n",
       "      <td>2020-02-20 00:00:00</td>\n",
       "      <td>2020</td>\n",
       "      <td>2</td>\n",
       "      <td>Thursday</td>\n",
       "      <td>0</td>\n",
       "      <td>NaN</td>\n",
       "      <td>SCHROEDER PLZ</td>\n",
       "      <td>42.333679</td>\n",
       "      <td>-71.091878</td>\n",
       "      <td>(42.3336792181085, -71.0918775461846)</td>\n",
       "    </tr>\n",
       "    <tr>\n",
       "      <th>1</th>\n",
       "      <td>457856954</td>\n",
       "      <td>3115</td>\n",
       "      <td>NaN</td>\n",
       "      <td>INVESTIGATE PERSON</td>\n",
       "      <td>B2</td>\n",
       "      <td>289</td>\n",
       "      <td>0</td>\n",
       "      <td>2020-02-21 01:42:00</td>\n",
       "      <td>2020</td>\n",
       "      <td>2</td>\n",
       "      <td>Friday</td>\n",
       "      <td>1</td>\n",
       "      <td>NaN</td>\n",
       "      <td>SCHROEDER PLZ</td>\n",
       "      <td>42.333679</td>\n",
       "      <td>-71.091878</td>\n",
       "      <td>(42.3336792181085, -71.0918775461846)</td>\n",
       "    </tr>\n",
       "    <tr>\n",
       "      <th>2</th>\n",
       "      <td>302030654</td>\n",
       "      <td>1106</td>\n",
       "      <td>NaN</td>\n",
       "      <td>FRAUD - CREDIT CARD / ATM FRAUD</td>\n",
       "      <td>D4</td>\n",
       "      <td>167</td>\n",
       "      <td>0</td>\n",
       "      <td>2020-04-24 13:00:00</td>\n",
       "      <td>2020</td>\n",
       "      <td>4</td>\n",
       "      <td>Friday</td>\n",
       "      <td>13</td>\n",
       "      <td>NaN</td>\n",
       "      <td>MASSACHUSETTS AVE</td>\n",
       "      <td>42.339542</td>\n",
       "      <td>-71.069409</td>\n",
       "      <td>(42.3395419898301, -71.0694087696754)</td>\n",
       "    </tr>\n",
       "  </tbody>\n",
       "</table>\n",
       "</div>"
      ],
      "text/plain": [
       "  INCIDENT_NUMBER  OFFENSE_CODE  OFFENSE_CODE_GROUP  \\\n",
       "0       854652314          3115                 NaN   \n",
       "1       457856954          3115                 NaN   \n",
       "2       302030654          1106                 NaN   \n",
       "\n",
       "               OFFENSE_DESCRIPTION DISTRICT REPORTING_AREA  SHOOTING  \\\n",
       "0               INVESTIGATE PERSON       B2            289         0   \n",
       "1               INVESTIGATE PERSON       B2            289         0   \n",
       "2  FRAUD - CREDIT CARD / ATM FRAUD       D4            167         0   \n",
       "\n",
       "      OCCURRED_ON_DATE  YEAR  MONTH DAY_OF_WEEK  HOUR  UCR_PART  \\\n",
       "0  2020-02-20 00:00:00  2020      2    Thursday     0       NaN   \n",
       "1  2020-02-21 01:42:00  2020      2      Friday     1       NaN   \n",
       "2  2020-04-24 13:00:00  2020      4      Friday    13       NaN   \n",
       "\n",
       "              STREET        Lat       Long  \\\n",
       "0      SCHROEDER PLZ  42.333679 -71.091878   \n",
       "1      SCHROEDER PLZ  42.333679 -71.091878   \n",
       "2  MASSACHUSETTS AVE  42.339542 -71.069409   \n",
       "\n",
       "                                Location  \n",
       "0  (42.3336792181085, -71.0918775461846)  \n",
       "1  (42.3336792181085, -71.0918775461846)  \n",
       "2  (42.3395419898301, -71.0694087696754)  "
      ]
     },
     "metadata": {},
     "output_type": "display_data"
    }
   ],
   "source": [
    "# looking at the first few columns\n",
    "display(fcn.head(3),fc.head(3),cir.head(3))"
   ]
  },
  {
   "cell_type": "code",
   "execution_count": 9,
   "id": "b925d170-1d3e-4f9c-b433-a046cd7b4864",
   "metadata": {
    "tags": []
   },
   "outputs": [
    {
     "name": "stdout",
     "output_type": "stream",
     "text": [
      "<class 'pandas.core.frame.DataFrame'>\n",
      "Int64Index: 24668 entries, 0 to 2962\n",
      "Data columns (total 16 columns):\n",
      " #   Column         Non-Null Count  Dtype  \n",
      "---  ------         --------------  -----  \n",
      " 0   fc_num         24668 non-null  object \n",
      " 1   contact_date   24668 non-null  object \n",
      " 2   sex            24588 non-null  object \n",
      " 3   race           24342 non-null  object \n",
      " 4   age            24101 non-null  float64\n",
      " 5   build          16937 non-null  object \n",
      " 6   hair_style     5363 non-null   object \n",
      " 7   skin_tone      2793 non-null   object \n",
      " 8   ethnicity      19899 non-null  object \n",
      " 9   otherclothing  4695 non-null   object \n",
      " 10  deceased       13187 non-null  float64\n",
      " 11  license_state  10946 non-null  object \n",
      " 12  license_type   3836 non-null   object \n",
      " 13  frisk/search   11952 non-null  float64\n",
      " 14  recnum         11433 non-null  float64\n",
      " 15  complexion     7306 non-null   object \n",
      "dtypes: float64(4), object(12)\n",
      "memory usage: 3.2+ MB\n",
      "<class 'pandas.core.frame.DataFrame'>\n",
      "Int64Index: 14054 entries, 0 to 1708\n",
      "Data columns (total 28 columns):\n",
      " #   Column                Non-Null Count  Dtype  \n",
      "---  ------                --------------  -----  \n",
      " 0   fc_num                14054 non-null  object \n",
      " 1   contact_date          14054 non-null  object \n",
      " 2   contact_officer       14054 non-null  object \n",
      " 3   contact_officer_name  14054 non-null  object \n",
      " 4   supervisor            14036 non-null  float64\n",
      " 5   supervisor_name       14036 non-null  object \n",
      " 6   street                5433 non-null   object \n",
      " 7   city                  14027 non-null  object \n",
      " 8   state                 14043 non-null  object \n",
      " 9   zip                   13948 non-null  object \n",
      " 10  stop_duration         7619 non-null   object \n",
      " 11  circumstance          14054 non-null  object \n",
      " 12  basis                 14045 non-null  object \n",
      " 13  vehicle_year          5264 non-null   float64\n",
      " 14  vehicle_state         5382 non-null   object \n",
      " 15  vehicle_model         5493 non-null   object \n",
      " 16  vehicle_color         5484 non-null   object \n",
      " 17  vehicle_style         5091 non-null   object \n",
      " 18  vehicle_type          5357 non-null   object \n",
      " 19  key_situations        4897 non-null   object \n",
      " 20  contact_reason        12254 non-null  object \n",
      " 21  weather               5874 non-null   object \n",
      " 22  frisked               1773 non-null   object \n",
      " 23  searchperson          787 non-null    object \n",
      " 24  searchvehicle         470 non-null    object \n",
      " 25  summonsissued         176 non-null    object \n",
      " 26  vehicle_make          2610 non-null   object \n",
      " 27  narrative             1691 non-null   object \n",
      "dtypes: float64(2), object(26)\n",
      "memory usage: 3.1+ MB\n",
      "<class 'pandas.core.frame.DataFrame'>\n",
      "Int64Index: 158078 entries, 0 to 87183\n",
      "Data columns (total 17 columns):\n",
      " #   Column               Non-Null Count   Dtype  \n",
      "---  ------               --------------   -----  \n",
      " 0   INCIDENT_NUMBER      158078 non-null  object \n",
      " 1   OFFENSE_CODE         158078 non-null  int64  \n",
      " 2   OFFENSE_CODE_GROUP   0 non-null       float64\n",
      " 3   OFFENSE_DESCRIPTION  158078 non-null  object \n",
      " 4   DISTRICT             156759 non-null  object \n",
      " 5   REPORTING_AREA       158078 non-null  object \n",
      " 6   SHOOTING             158078 non-null  int64  \n",
      " 7   OCCURRED_ON_DATE     158078 non-null  object \n",
      " 8   YEAR                 158078 non-null  int64  \n",
      " 9   MONTH                158078 non-null  int64  \n",
      " 10  DAY_OF_WEEK          158078 non-null  object \n",
      " 11  HOUR                 158078 non-null  int64  \n",
      " 12  UCR_PART             0 non-null       float64\n",
      " 13  STREET               158075 non-null  object \n",
      " 14  Lat                  158078 non-null  float64\n",
      " 15  Long                 158078 non-null  float64\n",
      " 16  Location             158078 non-null  object \n",
      "dtypes: float64(4), int64(5), object(8)\n",
      "memory usage: 21.7+ MB\n"
     ]
    },
    {
     "data": {
      "text/plain": [
       "None"
      ]
     },
     "metadata": {},
     "output_type": "display_data"
    },
    {
     "data": {
      "text/plain": [
       "None"
      ]
     },
     "metadata": {},
     "output_type": "display_data"
    },
    {
     "data": {
      "text/plain": [
       "None"
      ]
     },
     "metadata": {},
     "output_type": "display_data"
    }
   ],
   "source": [
    "# looking to understand the data types in the datasets\n",
    "display(fcn.info(),fc.info(),cir.info())"
   ]
  },
  {
   "cell_type": "code",
   "execution_count": 10,
   "id": "edf105b8-19e9-4a40-a8a8-be9798299c14",
   "metadata": {
    "tags": []
   },
   "outputs": [
    {
     "data": {
      "text/plain": [
       "Index(['fc_num', 'contact_date', 'sex', 'race', 'age', 'build', 'hair_style',\n",
       "       'skin_tone', 'ethnicity', 'otherclothing', 'deceased', 'license_state',\n",
       "       'license_type', 'frisk/search', 'recnum', 'complexion'],\n",
       "      dtype='object')"
      ]
     },
     "metadata": {},
     "output_type": "display_data"
    },
    {
     "data": {
      "text/plain": [
       "Index(['fc_num', 'contact_date', 'contact_officer', 'contact_officer_name',\n",
       "       'supervisor', 'supervisor_name', 'street', 'city', 'state', 'zip',\n",
       "       'stop_duration', 'circumstance', 'basis', 'vehicle_year',\n",
       "       'vehicle_state', 'vehicle_model', 'vehicle_color', 'vehicle_style',\n",
       "       'vehicle_type', 'key_situations', 'contact_reason', 'weather',\n",
       "       'frisked', 'searchperson', 'searchvehicle', 'summonsissued',\n",
       "       'vehicle_make', 'narrative'],\n",
       "      dtype='object')"
      ]
     },
     "metadata": {},
     "output_type": "display_data"
    },
    {
     "data": {
      "text/plain": [
       "Index(['INCIDENT_NUMBER', 'OFFENSE_CODE', 'OFFENSE_CODE_GROUP',\n",
       "       'OFFENSE_DESCRIPTION', 'DISTRICT', 'REPORTING_AREA', 'SHOOTING',\n",
       "       'OCCURRED_ON_DATE', 'YEAR', 'MONTH', 'DAY_OF_WEEK', 'HOUR', 'UCR_PART',\n",
       "       'STREET', 'Lat', 'Long', 'Location'],\n",
       "      dtype='object')"
      ]
     },
     "metadata": {},
     "output_type": "display_data"
    }
   ],
   "source": [
    "# looking at the columns names \n",
    "display(fcn.columns,fc.columns,cir.columns)"
   ]
  },
  {
   "cell_type": "markdown",
   "id": "21f2c89a-535c-4f7e-a789-d2d5a1bb06b9",
   "metadata": {},
   "source": [
    "### Plot Missing and Incomplete Data"
   ]
  },
  {
   "cell_type": "code",
   "execution_count": 11,
   "id": "d0fe4dec-869e-4509-89e2-507719d6e766",
   "metadata": {
    "tags": []
   },
   "outputs": [
    {
     "data": {
      "image/png": "[encoded data removed]",
      "text/plain": [
       "<Figure size 720x360 with 1 Axes>"
      ]
     },
     "metadata": {
      "needs_background": "light"
     },
     "output_type": "display_data"
    }
   ],
   "source": [
    "# sparse data for hair style, skin tone, other clothing, license_type\n",
    "msno.matrix(fcn,figsize=(10, 5),sparkline=False);"
   ]
  },
  {
   "cell_type": "code",
   "execution_count": 12,
   "id": "87e63dfa-3523-40fd-98f9-b813b964afb3",
   "metadata": {
    "tags": []
   },
   "outputs": [
    {
     "data": {
      "image/png": "[encoded data removed]",
      "text/plain": [
       "<Figure size 720x360 with 1 Axes>"
      ]
     },
     "metadata": {
      "needs_background": "light"
     },
     "output_type": "display_data"
    }
   ],
   "source": [
    "# sparse data for vehicle and stop duration columns\n",
    "msno.matrix(fc,figsize=(10, 5),sparkline=False);"
   ]
  },
  {
   "cell_type": "code",
   "execution_count": 13,
   "id": "180aaf2e-3d67-4316-924e-fcfdd19319d0",
   "metadata": {
    "tags": []
   },
   "outputs": [
    {
     "data": {
      "image/png": "[encoded data removed]",
      "text/plain": [
       "<Figure size 720x360 with 1 Axes>"
      ]
     },
     "metadata": {
      "needs_background": "light"
     },
     "output_type": "display_data"
    }
   ],
   "source": [
    "# missing data from offense code group and ucr part\n",
    "msno.matrix(cir,figsize=(10, 5),sparkline=False);"
   ]
  },
  {
   "cell_type": "markdown",
   "id": "f59deb3a",
   "metadata": {},
   "source": [
    "#### **Discussion**\n",
    "- Several cols that are particularly spare are `vehicle*`, `OFFENSE_CODE_GROUP`, `street`, `stop_duration` and will be dropped.\n",
    "- Are columns of interest seem to have ample data available."
   ]
  },
  {
   "cell_type": "markdown",
   "id": "907925fc-f9fa-4178-99f5-b4481e552d3b",
   "metadata": {},
   "source": [
    "## Step 2: Cleaning and selecting our columns"
   ]
  },
  {
   "cell_type": "code",
   "execution_count": 14,
   "id": "2700dda8",
   "metadata": {},
   "outputs": [],
   "source": [
    "def color_mapping(df, col):\n",
    "    # intialize list of items from df\n",
    "    random.seed(0)\n",
    "    categories = df[col].to_list()\n",
    "    \n",
    "    # initialize color mapping\n",
    "    color_map = {}\n",
    "    if f'{col}_hex' not in df.columns:\n",
    "        # assign random color to each category in column\n",
    "        for cat in categories:\n",
    "            r = lambda: random.randint(0,255)\n",
    "            hex = '#%02X%02X%02X' % (r(),r(),r())\n",
    "            if cat in color_map.keys():\n",
    "                pass\n",
    "            else:\n",
    "                color_map[cat] = hex\n",
    "        \n",
    "        # print color mapping\n",
    "        color_map_df = pd.DataFrame.from_dict(color_map, orient='index', columns=[f'{col}_hex'])\\\n",
    "                .reset_index()\\\n",
    "                .rename(columns=dict(index=col))\n",
    "        \n",
    "        return df.merge(color_map_df, on=col, how='left')\n",
    "    else:\n",
    "        df"
   ]
  },
  {
   "cell_type": "code",
   "execution_count": 15,
   "id": "6e69fb74-91c0-400f-bc21-7cdf7a582594",
   "metadata": {},
   "outputs": [],
   "source": [
    "# Selecting the columns of interest\n",
    "fcn_df = fcn[['fc_num','contact_date','sex','race','age']].copy()\n",
    "\n",
    "fc_df = fc[['fc_num','contact_date','supervisor','street','city','zip','state',\n",
    "            'circumstance','basis','key_situations']].copy()\n",
    "\n",
    "cir_df = cir[['INCIDENT_NUMBER','OFFENSE_CODE','OFFENSE_DESCRIPTION','DISTRICT',\n",
    "              'REPORTING_AREA','OCCURRED_ON_DATE','YEAR', 'MONTH','DAY_OF_WEEK', \n",
    "              'HOUR', 'STREET','Lat','Long','Location']].copy()\n",
    "\n",
    "# changing the columns to lowercase to consistency\n",
    "cir_df.columns = cir_df.columns.str.lower()"
   ]
  },
  {
   "cell_type": "code",
   "execution_count": 16,
   "id": "6e58777a-5712-4469-90e7-e7d3f0a0b6ac",
   "metadata": {},
   "outputs": [],
   "source": [
    "# create date and month values\n",
    "fc_df['date'] = pd.to_datetime(fc_df['contact_date']).dt.date\n",
    "fc_df['month'] = pd.to_datetime(fc_df['contact_date']).dt.month\n",
    "\n",
    "# create date values (month is already the data)\n",
    "cir_df['date'] = pd.to_datetime(cir_df['occurred_on_date']).dt.date\n",
    "\n",
    "# fill missing age values\n",
    "#fcn_df['age'].fillna(np.median(fcn_df['age']), inplace=True)\n",
    "fcn_df['age'].replace(np.nan,fcn_df['age'].median(),inplace=True)"
   ]
  },
  {
   "cell_type": "markdown",
   "id": "f9a66d2f-8355-4897-a7d6-5a9a4edd2525",
   "metadata": {},
   "source": [
    "### Mapping Dicts\n",
    "\n",
    "The mappings below were used to help us bucket similar crimes during the analysis phase. This was due in part to the `OFFENSE_CODE_GROUP` missing from the raw data.\n",
    "\n",
    "**TODO:** Add race and age mappings that will be used in supplemental analysis"
   ]
  },
  {
   "cell_type": "code",
   "execution_count": 17,
   "id": "dc9b0b6f-d938-4af7-ac33-ffbd7746f53c",
   "metadata": {},
   "outputs": [],
   "source": [
    "# offense groupings\n",
    "offense  = [\"ANIMAL\",\"ANIMAL\",\"ANIMAL\",\"ANIMAL\",\"ANIMAL\",\"ASSAULT\",\"ASSAULT\",\"ASSAULT\",\"ASSAULT\",\"ASSAULT\",\n",
    "            \"ASSAULT\",\"CHINS\",\"DISORDERLY CONDUCT\",\"DISORDERLY CONDUCT\",\"DISORDERLY CONDUCT\",\"DISORDERLY CONDUCT\",\n",
    "            \"DISORDERLY CONDUCT\",\"DISORDERLY CONDUCT\",\"DISORDERLY CONDUCT\",\"DISORDERLY CONDUCT\",\"DISORDERLY CONDUCT\",\n",
    "            \"DISORDERLY CONDUCT\",\"DISORDERLY CONDUCT\",\"DISORDERLY CONDUCT\",\"DISORDERLY CONDUCT\",\"DISORDERLY CONDUCT\",\n",
    "            \"DISORDERLY CONDUCT\",\"DISORDERLY CONDUCT\",\"DISORDERLY CONDUCT\",\"DISORDERLY CONDUCT\",\"DISORDERLY CONDUCT\",\n",
    "            \"DISORDERLY CONDUCT\",\"DISORDERLY CONDUCT\",\"DISORDERLY CONDUCT\",\"DRUGS\",\"DRUGS\",\"DRUGS\",\"DRUGS\",\"DRUGS\",\n",
    "            \"DRUGS\",\"DRUGS\",\"DRUGS\",\"DRUGS\",\"DRUGS\",\"DRUGS\",\"DRUGS\",\"DRUGS\",\"DRUGS\",\"DRUGS\",\"DRUGS\",\"DRUGS\",\"DRUGS\",\n",
    "            \"DRUGS\",\"DRUGS\",\"DRUGS\",\"DRUGS\",\"DRUGS\",\"DRUGS\",\"DRUGS\",\"DRUGS\",\"DRUGS\",\"DRUGS\",\"FIRE REPORTS\",\"FIRE REPORTS\",\n",
    "            \"FIRE REPORTS\",\"FIRE REPORTS\",\"FIRE REPORTS\",\"FIRE REPORTS\",\"FIREARMS\",\"FIREARMS\",\"FIREARMS\",\"FIREARMS\",\n",
    "            \"FIREARMS\",\"FIREARMS\",\"FIREARMS\",\"FIREARMS\",\"FIREARMS\",\"FIREARMS\",\"FIREARMS\",\"FRAUD\",\"FRAUD\",\"FRAUD\",\"FRAUD\",\n",
    "            \"FRAUD\",\"FRAUD\",\"FRAUD\",\"FRAUD\",\"FRAUD\",\"FRAUD\",\"HARASSMENT\",\"HARASSMENT\",\"HARASSMENT\",\"HARASSMENT\",\n",
    "            \"HAZARDOUS CONDITIONS\",\"HAZARDOUS CONDITIONS\",\"HEAVY MACHINERY\",\"HEAVY MACHINERY\",\"HEAVY MACHINERY\",\n",
    "            \"HEAVY MACHINERY\",\"HEAVY MACHINERY\",\"HEAVY MACHINERY\",\"HOMICIDE\",\"HOMICIDE\",\"HOMICIDE\",\"INVESTIGATION\",\n",
    "            \"INVESTIGATION\",\"INVESTIGATION\",\"INVESTIGATION\",\"INVESTIGATION\",\"KIDNAPPING\",\"KIDNAPPING\",\"KIDNAPPING\",\"LANDLORD\",\n",
    "            \"MISCELLANEOUS\",\"MISCELLANEOUS\",\"MISCELLANEOUS\",\"MISCELLANEOUS\",\"MISCELLANEOUS\",\"MISCELLANEOUS\",\"MISCELLANEOUS\",\n",
    "            \"MISCELLANEOUS\",\"MISCELLANEOUS\",\"MISSING PERSON\",\"MISSING PERSON\",\"MISSING PERSON\",\"MISSING PROPERTY\",\"MISSING PROPERTY\",\n",
    "            \"MISSING PROPERTY\",\"MISSING PROPERTY\",\"MISSING PROPERTY\",\"MISSING PROPERTY\",\"MISSING PROPERTY\",\"MOTORIZED VEHICLE\",\n",
    "            \"MOTORIZED VEHICLE\",\"MOTORIZED VEHICLE\",\"MOTORIZED VEHICLE\",\"MOTORIZED VEHICLE\",\"MOTORIZED VEHICLE\",\"MOTORIZED VEHICLE\",\n",
    "            \"MOTORIZED VEHICLE\",\"MOTORIZED VEHICLE\",\"MOTORIZED VEHICLE\",\"MOTORIZED VEHICLE\",\"MOTORIZED VEHICLE\",\"MOTORIZED VEHICLE\",\n",
    "            \"PROPERTY THEFT\",\"PROPERTY THEFT\",\"PROPERTY THEFT\",\"PROPERTY THEFT\",\"PROPERTY THEFT\",\"PROPERTY THEFT\",\"PROPERTY THEFT\",\n",
    "            \"PROPERTY THEFT\",\"PROPERTY THEFT\",\"PROPERTY THEFT\",\"PROPERTY THEFT\",\"PROPERTY THEFT\",\"PROPERTY THEFT\",\"PROPERTY THEFT\",\n",
    "            \"PROPERTY THEFT\",\"PROPERTY THEFT\",\"PROPERTY THEFT\",\"PROPERTY THEFT\",\"PROPERTY THEFT\",\"PROPERTY THEFT\",\"PROPERTY THEFT\",\n",
    "            \"PROPERTY THEFT\",\"PROPERTY THEFT\",\"PROPERTY THEFT\",\"PROPERTY THEFT\",\"PROPERTY THEFT\",\"PROPERTY THEFT\",\"PROPERTY THEFT\",\n",
    "            \"PROPERTY THEFT\",\"PROPERTY THEFT\",\"PROPERTY THEFT\",\"PROPERTY THEFT\",\"PROPERTY THEFT\",\"PROPERTY THEFT\",\"PROSTITUTION\",\n",
    "            \"PROSTITUTION\",\"PROSTITUTION\",\"ROBBERY\",\"ROBBERY\",\"ROBBERY\",\"ROBBERY\",\"ROBBERY\",\"ROBBERY\",\"ROBBERY\",\"SICK ASSIST\",\n",
    "            \"SICK ASSIST\",\"SICK ASSIST\",\"SUICIDE\",\"SUICIDE\",\"VANDALISM\",\"VANDALISM\",\"VANDALISM\",\"VICE\",\"VICE\",\"WARRANT\",\"WARRANT\",\"WARRANT\"]\n",
    "\n",
    "# offense codes\n",
    "code = [3403,2613,3002,3402,3410,800,400,413,423,801,802,2608,3350,2400,3303,2641,2642,2628,2407,2600,2401,3305,3300,2671,2619,2660,2405,3304,\n",
    "        2632,2604,2657,2403,2610,3301,2010,2617,1815,1807,1850,1870,1846,2102,1831,2006,1847,1806,1825,1845,1800,1805,1844,1874,1848,1830,1841,\n",
    "        2007,2101,1842,1849,1843,1832,1810,3123,3122,900,2612,3160,3108,1502,3016,1500,1504,1510,2618,2648,1503,3119,2662,1501,1200,1000,1100,\n",
    "        1201,1109,1001,1108,1106,1107,1102,2672,2629,2670,2647,3620,3625,2950,2906,2914,2900,2907,2905,990,100,111,3000,3102,3001,3114,3115,2500,\n",
    "        2511,2622,3112,99999,3100,3170,3116,3110,3106,3109,3111,3007,3503,3501,3502,3203,3200,3202,3208,3205,3207,3201,121,3004,3811,3821,3810,\n",
    "        3807,3805,3830,3820,3801,3803,3802,3831,618,561,650,670,2631,700,2616,541,500,560,562,736,542,612,531,600,1304,611,641,521,727,1300,522,\n",
    "        735,706,540,615,520,616,724,619,617,613,614,1603,1601,1602,381,300,351,371,311,361,301,3018,3005,3006,3029,3008,1400,1415,1402,2204,2646,\n",
    "        3130,3126,3125]\n",
    "\n",
    "# dict for remapping code to offense_type\n",
    "offense_code_mapping = dict(zip(code,offense))"
   ]
  },
  {
   "cell_type": "code",
   "execution_count": 34,
   "id": "7ff77537",
   "metadata": {},
   "outputs": [],
   "source": [
    "# create mapping for transgender sex\n",
    "sex_mapping = {\"Male to Female Transgender\":\"Female\",\n",
    "\"Transgender Male to Female\":\"Female\",\n",
    "\"Female to Male Transgender\": \"Male\",\n",
    "\"Transgender Female to Male\":\"Male\",\n",
    "np.NaN:\"Unknown\"\n",
    "}"
   ]
  },
  {
   "cell_type": "code",
   "execution_count": 35,
   "id": "a4aff083-ce44-49f3-ad1e-8a3d73a1e5ca",
   "metadata": {},
   "outputs": [],
   "source": [
    "# dict for remapping race to race categories\n",
    "race_mapping = {\"Black\":\"Black\",\n",
    "                \"American Indian or Alaskan Native\":\"Other\",\n",
    "                \"Native American / Alaskan Native\":\"Other\",\n",
    "                \"Native Hawaiian or Other Pacific Islander\":\"Other\",\n",
    "                \"Native Hawaiian / Other Pacific Islander\":\"Other\",\n",
    "                \"Other\":\"Other\",\n",
    "                \"Asian\":\"Other\",\n",
    "                np.NaN:\"Unknown\",\n",
    "                \"Unknown\":\"Unknown\",\n",
    "                \"White\":\"White\"}"
   ]
  },
  {
   "cell_type": "code",
   "execution_count": 36,
   "id": "15ca08cb-18b2-45a7-be1e-abee908515db",
   "metadata": {},
   "outputs": [],
   "source": [
    "# adding the mappings to the new data frames\n",
    "cir_df['offense_group'] = cir_df['offense_code'].replace(offense_code_mapping)\n",
    "fcn_df['race_grouped'] = fcn_df['race'].replace(race_mapping)\n",
    "fcn_df['sex_grouped'] = fcn_df['sex'].replace(sex_mapping)\n"
   ]
  },
  {
   "cell_type": "code",
   "execution_count": 37,
   "id": "627c3b78",
   "metadata": {},
   "outputs": [],
   "source": [
    "#clean zip code to match zip5 format of geojson data\n",
    "fc_df['ZIP5'] = fc_df['zip'].astype(str).apply(lambda x: x.zfill(5))"
   ]
  },
  {
   "cell_type": "code",
   "execution_count": 38,
   "id": "e45078fc",
   "metadata": {},
   "outputs": [],
   "source": [
    "#color mappings for each data set\n",
    "cir_df_color = color_mapping(cir_df,'offense_group')\n",
    "fcn_df_color = color_mapping(fcn_df,'race_grouped')\n",
    "\n",
    "fcn_df_color['age_by_decade'] = pd.cut(x=fcn_df_color['age'],bins=[10,20,30,40,50,60,70,80,90,100])"
   ]
  },
  {
   "cell_type": "markdown",
   "id": "93114e3b-ebff-4103-9aa9-3c0110885c40",
   "metadata": {},
   "source": [
    "## Export Data to Excel"
   ]
  },
  {
   "cell_type": "code",
   "execution_count": 39,
   "id": "fe82c110-fa58-4a40-9045-66816cb9696e",
   "metadata": {},
   "outputs": [],
   "source": [
    "# export clean data to data file\n",
    "fcn_df_color.to_excel('data/fcn_19_20.xlsx')\n",
    "cir_df_color.to_excel('data/cir_19_20.xlsx')\n",
    "fc_df.to_excel('data/fc_19_20.xlsx')"
   ]
  }
 ],
 "metadata": {
  "kernelspec": {
   "display_name": "Python 3",
   "language": "python",
   "name": "python3"
  },
  "language_info": {
   "codemirror_mode": {
    "name": "ipython",
    "version": 3
   },
   "file_extension": ".py",
   "mimetype": "text/x-python",
   "name": "python",
   "nbconvert_exporter": "python",
   "pygments_lexer": "ipython3",
   "version": "3.9.12"
  }
 },
 "nbformat": 4,
 "nbformat_minor": 5
}
